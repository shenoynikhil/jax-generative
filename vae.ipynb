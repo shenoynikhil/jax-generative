{
 "cells": [
  {
   "cell_type": "markdown",
   "id": "d3100b3e-a6e0-4474-876d-df459372c56c",
   "metadata": {},
   "source": [
    "# (Vanilla) Variational Autoencoder in Jax"
   ]
  },
  {
   "cell_type": "markdown",
   "id": "ae7cfa2a-d0e9-4295-928d-c7957db265fa",
   "metadata": {
    "tags": []
   },
   "source": [
    "## Dataset Stuff\n",
    "- Load dataset\n",
    "- Create dataloader"
   ]
  },
  {
   "cell_type": "code",
   "execution_count": 1,
   "id": "70ecc9b0-7844-46f7-b83a-5994666952d3",
   "metadata": {},
   "outputs": [
    {
     "name": "stderr",
     "output_type": "stream",
     "text": [
      "/arc/project/st-jiaruid-1/miniconda3/envs/jax/lib/python3.8/site-packages/tqdm/auto.py:22: TqdmWarning: IProgress not found. Please update jupyter and ipywidgets. See https://ipywidgets.readthedocs.io/en/stable/user_install.html\n",
      "  from .autonotebook import tqdm as notebook_tqdm\n"
     ]
    }
   ],
   "source": [
    "import tensorflow as tf\n",
    "import tensorflow_datasets as tfds"
   ]
  },
  {
   "cell_type": "code",
   "execution_count": 3,
   "id": "3114e563-3e27-40ad-bcad-7361c6bc3343",
   "metadata": {},
   "outputs": [],
   "source": [
    "# load datasets\n",
    "(ds_train, ds_test), ds_info = tfds.load(\n",
    "    'mnist',\n",
    "    data_dir='data/',\n",
    "    split=['train', 'test'],\n",
    "    shuffle_files=True,\n",
    "    as_supervised=True,\n",
    "    with_info=True,\n",
    ")"
   ]
  },
  {
   "cell_type": "code",
   "execution_count": 22,
   "id": "c67afa51-8140-4ccc-9ae3-f828b364de41",
   "metadata": {},
   "outputs": [],
   "source": [
    "ds = ds_train.take(1)\n",
    "for image, label in ds:\n",
    "    break"
   ]
  },
  {
   "cell_type": "markdown",
   "id": "e4587835-3f46-4751-9dd0-eeb765c6d8c9",
   "metadata": {},
   "source": [
    "### Build VAE Architecture"
   ]
  },
  {
   "cell_type": "code",
   "execution_count": 31,
   "id": "76ae19b4-0848-48dc-9752-8ba2ee52bd2b",
   "metadata": {},
   "outputs": [],
   "source": [
    "from flax import linen as nn"
   ]
  },
  {
   "cell_type": "code",
   "execution_count": 32,
   "id": "87fd6e6c-2956-4bbf-8784-388ebc5d0006",
   "metadata": {},
   "outputs": [
    {
     "ename": "SyntaxError",
     "evalue": "invalid syntax (<ipython-input-32-4de69f9b5e63>, line 1)",
     "output_type": "error",
     "traceback": [
      "\u001b[0;36m  Cell \u001b[0;32mIn[32], line 1\u001b[0;36m\u001b[0m\n\u001b[0;31m    class VanillaVAE()\u001b[0m\n\u001b[0m                      ^\u001b[0m\n\u001b[0;31mSyntaxError\u001b[0m\u001b[0;31m:\u001b[0m invalid syntax\n"
     ]
    }
   ],
   "source": [
    "class VanillaVAE(nn.Module):\n",
    "    @nn.compact\n",
    "    def __call__(self, x):\n",
    "        # TODO: Fill type hinting and return type\n",
    "        "
   ]
  },
  {
   "cell_type": "code",
   "execution_count": null,
   "id": "b19b3774-74c6-401d-85a7-e80bde1e9103",
   "metadata": {},
   "outputs": [],
   "source": []
  }
 ],
 "metadata": {
  "kernelspec": {
   "display_name": "jax",
   "language": "python",
   "name": "jax"
  },
  "language_info": {
   "codemirror_mode": {
    "name": "ipython",
    "version": 3
   },
   "file_extension": ".py",
   "mimetype": "text/x-python",
   "name": "python",
   "nbconvert_exporter": "python",
   "pygments_lexer": "ipython3",
   "version": "3.8.15"
  }
 },
 "nbformat": 4,
 "nbformat_minor": 5
}
